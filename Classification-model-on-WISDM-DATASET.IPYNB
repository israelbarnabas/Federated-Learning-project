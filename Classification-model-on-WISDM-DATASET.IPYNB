{
 "cells": [
  {
   "cell_type": "markdown",
   "id": "3cdad5c8",
   "metadata": {},
   "source": [
    "# Let's create classification model for Our Cleaned WISDM Dataset\n",
    "So for classification we have Logistic regression and RandomforestClassifier\n",
    "We want are model to predict the users activity babaes on the "
   ]
  },
  {
   "cell_type": "code",
   "execution_count": 1,
   "id": "ece6f433",
   "metadata": {},
   "outputs": [],
   "source": [
    "import numpy as np\n",
    "import pandas as pd \n",
    "import matplotlib.pyplot as plt\n",
    "import seaborn as sns\n",
    "from sklearn.model_selection import train_test_split\n",
    "from sklearn.linear_model import LogisticRegression\n",
    "from sklearn.ensemble import RandomForestClassifier\n",
    "from sklearn.metrics import classification_report, confusion_matrix, accuracy_score                 "
   ]
  },
  {
   "cell_type": "code",
   "execution_count": 9,
   "id": "945e063c",
   "metadata": {},
   "outputs": [
    {
     "data": {
      "text/html": [
       "<div>\n",
       "<style scoped>\n",
       "    .dataframe tbody tr th:only-of-type {\n",
       "        vertical-align: middle;\n",
       "    }\n",
       "\n",
       "    .dataframe tbody tr th {\n",
       "        vertical-align: top;\n",
       "    }\n",
       "\n",
       "    .dataframe thead th {\n",
       "        text-align: right;\n",
       "    }\n",
       "</style>\n",
       "<table border=\"1\" class=\"dataframe\">\n",
       "  <thead>\n",
       "    <tr style=\"text-align: right;\">\n",
       "      <th></th>\n",
       "      <th>user</th>\n",
       "      <th>activity</th>\n",
       "      <th>timestamp</th>\n",
       "      <th>x</th>\n",
       "      <th>y</th>\n",
       "      <th>z</th>\n",
       "    </tr>\n",
       "  </thead>\n",
       "  <tbody>\n",
       "    <tr>\n",
       "      <th>0</th>\n",
       "      <td>33</td>\n",
       "      <td>Jogging</td>\n",
       "      <td>49105962326000</td>\n",
       "      <td>-0.694638</td>\n",
       "      <td>12.680544</td>\n",
       "      <td>0.503953</td>\n",
       "    </tr>\n",
       "    <tr>\n",
       "      <th>1</th>\n",
       "      <td>33</td>\n",
       "      <td>Jogging</td>\n",
       "      <td>49106062271000</td>\n",
       "      <td>5.012288</td>\n",
       "      <td>11.264028</td>\n",
       "      <td>0.953424</td>\n",
       "    </tr>\n",
       "    <tr>\n",
       "      <th>2</th>\n",
       "      <td>33</td>\n",
       "      <td>Jogging</td>\n",
       "      <td>49106112167000</td>\n",
       "      <td>4.903325</td>\n",
       "      <td>10.882658</td>\n",
       "      <td>-0.081722</td>\n",
       "    </tr>\n",
       "    <tr>\n",
       "      <th>3</th>\n",
       "      <td>33</td>\n",
       "      <td>Jogging</td>\n",
       "      <td>49106222305000</td>\n",
       "      <td>-0.612916</td>\n",
       "      <td>18.496431</td>\n",
       "      <td>3.023717</td>\n",
       "    </tr>\n",
       "    <tr>\n",
       "      <th>4</th>\n",
       "      <td>33</td>\n",
       "      <td>Jogging</td>\n",
       "      <td>49106332290000</td>\n",
       "      <td>-1.184970</td>\n",
       "      <td>12.108489</td>\n",
       "      <td>7.205164</td>\n",
       "    </tr>\n",
       "  </tbody>\n",
       "</table>\n",
       "</div>"
      ],
      "text/plain": [
       "   user activity       timestamp         x          y         z\n",
       "0    33  Jogging  49105962326000 -0.694638  12.680544  0.503953\n",
       "1    33  Jogging  49106062271000  5.012288  11.264028  0.953424\n",
       "2    33  Jogging  49106112167000  4.903325  10.882658 -0.081722\n",
       "3    33  Jogging  49106222305000 -0.612916  18.496431  3.023717\n",
       "4    33  Jogging  49106332290000 -1.184970  12.108489  7.205164"
      ]
     },
     "execution_count": 9,
     "metadata": {},
     "output_type": "execute_result"
    }
   ],
   "source": [
    "df = pd.read_csv('cleaned_wisdm_data.csv')\n",
    "df.head()"
   ]
  },
  {
   "cell_type": "code",
   "execution_count": 10,
   "id": "10337314",
   "metadata": {},
   "outputs": [
    {
     "name": "stdout",
     "output_type": "stream",
     "text": [
      "<class 'pandas.core.frame.DataFrame'>\n",
      "RangeIndex: 1086465 entries, 0 to 1086464\n",
      "Data columns (total 6 columns):\n",
      " #   Column     Non-Null Count    Dtype  \n",
      "---  ------     --------------    -----  \n",
      " 0   user       1086465 non-null  int64  \n",
      " 1   activity   1086465 non-null  object \n",
      " 2   timestamp  1086465 non-null  int64  \n",
      " 3   x          1086465 non-null  float64\n",
      " 4   y          1086465 non-null  float64\n",
      " 5   z          1086465 non-null  float64\n",
      "dtypes: float64(3), int64(2), object(1)\n",
      "memory usage: 49.7+ MB\n"
     ]
    }
   ],
   "source": [
    "df.info()"
   ]
  },
  {
   "cell_type": "code",
   "execution_count": 11,
   "id": "a1c8a5c2",
   "metadata": {},
   "outputs": [
    {
     "data": {
      "text/plain": [
       "user         0\n",
       "activity     0\n",
       "timestamp    0\n",
       "x            0\n",
       "y            0\n",
       "z            0\n",
       "dtype: int64"
      ]
     },
     "execution_count": 11,
     "metadata": {},
     "output_type": "execute_result"
    }
   ],
   "source": [
    "df.isnull().sum()"
   ]
  },
  {
   "cell_type": "markdown",
   "id": "85cfe646",
   "metadata": {},
   "source": [
    "> For the model, `user` and `timestamp` are not needed so only the `x`, `y` and `z` will be the only features used for the model making the activity or target.\n"
   ]
  },
  {
   "cell_type": "code",
   "execution_count": 12,
   "id": "ec386e8e",
   "metadata": {},
   "outputs": [
    {
     "data": {
      "text/html": [
       "<div>\n",
       "<style scoped>\n",
       "    .dataframe tbody tr th:only-of-type {\n",
       "        vertical-align: middle;\n",
       "    }\n",
       "\n",
       "    .dataframe tbody tr th {\n",
       "        vertical-align: top;\n",
       "    }\n",
       "\n",
       "    .dataframe thead th {\n",
       "        text-align: right;\n",
       "    }\n",
       "</style>\n",
       "<table border=\"1\" class=\"dataframe\">\n",
       "  <thead>\n",
       "    <tr style=\"text-align: right;\">\n",
       "      <th></th>\n",
       "      <th>activity</th>\n",
       "      <th>x</th>\n",
       "      <th>y</th>\n",
       "      <th>z</th>\n",
       "    </tr>\n",
       "  </thead>\n",
       "  <tbody>\n",
       "    <tr>\n",
       "      <th>0</th>\n",
       "      <td>Jogging</td>\n",
       "      <td>-0.694638</td>\n",
       "      <td>12.680544</td>\n",
       "      <td>0.503953</td>\n",
       "    </tr>\n",
       "    <tr>\n",
       "      <th>1</th>\n",
       "      <td>Jogging</td>\n",
       "      <td>5.012288</td>\n",
       "      <td>11.264028</td>\n",
       "      <td>0.953424</td>\n",
       "    </tr>\n",
       "    <tr>\n",
       "      <th>2</th>\n",
       "      <td>Jogging</td>\n",
       "      <td>4.903325</td>\n",
       "      <td>10.882658</td>\n",
       "      <td>-0.081722</td>\n",
       "    </tr>\n",
       "    <tr>\n",
       "      <th>3</th>\n",
       "      <td>Jogging</td>\n",
       "      <td>-0.612916</td>\n",
       "      <td>18.496431</td>\n",
       "      <td>3.023717</td>\n",
       "    </tr>\n",
       "    <tr>\n",
       "      <th>4</th>\n",
       "      <td>Jogging</td>\n",
       "      <td>-1.184970</td>\n",
       "      <td>12.108489</td>\n",
       "      <td>7.205164</td>\n",
       "    </tr>\n",
       "  </tbody>\n",
       "</table>\n",
       "</div>"
      ],
      "text/plain": [
       "  activity         x          y         z\n",
       "0  Jogging -0.694638  12.680544  0.503953\n",
       "1  Jogging  5.012288  11.264028  0.953424\n",
       "2  Jogging  4.903325  10.882658 -0.081722\n",
       "3  Jogging -0.612916  18.496431  3.023717\n",
       "4  Jogging -1.184970  12.108489  7.205164"
      ]
     },
     "execution_count": 12,
     "metadata": {},
     "output_type": "execute_result"
    }
   ],
   "source": [
    "df = df.drop(['timestamp','user'], axis=1)\n",
    "df.head()"
   ]
  },
  {
   "cell_type": "code",
   "execution_count": 13,
   "id": "3b3163a7",
   "metadata": {},
   "outputs": [],
   "source": [
    "X = df.drop('activity', axis=1)\n",
    "y = df['activity']"
   ]
  },
  {
   "cell_type": "code",
   "execution_count": 14,
   "id": "15028f58",
   "metadata": {},
   "outputs": [],
   "source": [
    "from sklearn.preprocessing import StandardScaler\n",
    "from sklearn.model_selection import GridSearchCV"
   ]
  },
  {
   "cell_type": "code",
   "execution_count": 15,
   "id": "45f2a21a",
   "metadata": {},
   "outputs": [],
   "source": [
    "X_train, X_test, y_train, y_test = train_test_split(X, y, test_size=0.2, random_state=42)\n",
    "scaler = StandardScaler()\n",
    "X_train = scaler.fit_transform(X_train)\n",
    "X_test = scaler.transform(X_test)"
   ]
  },
  {
   "cell_type": "code",
   "execution_count": 16,
   "id": "591e33ca",
   "metadata": {},
   "outputs": [],
   "source": [
    "first_model = LogisticRegression(solver='saga',multi_class=\"ovr\",max_iter=50)\n",
    "first_model.fit(X_train, y_train)\n",
    "y_pred = first_model.predict(X_test)   "
   ]
  },
  {
   "cell_type": "code",
   "execution_count": 17,
   "id": "8992c54c",
   "metadata": {},
   "outputs": [
    {
     "name": "stdout",
     "output_type": "stream",
     "text": [
      "Accuracy of Logistic Regression: 47.11%\n"
     ]
    }
   ],
   "source": [
    "accuracy = accuracy_score(y_test, y_pred)\n",
    "print(f'Accuracy of Logistic Regression: {accuracy*100:.2f}%')"
   ]
  },
  {
   "cell_type": "code",
   "execution_count": 18,
   "id": "9a3d579a",
   "metadata": {},
   "outputs": [
    {
     "data": {
      "text/plain": [
       "array(['Jogging', 'Jogging', 'Jogging', ..., 'Jogging', 'Walking',\n",
       "       'Walking'], dtype=object)"
      ]
     },
     "execution_count": 18,
     "metadata": {},
     "output_type": "execute_result"
    }
   ],
   "source": [
    "model_2 = RandomForestClassifier(n_estimators=200,\n",
    "    random_state=42,\n",
    "    n_jobs=-1)\n",
    "model_2.fit(X_train, y_train)\n",
    "model_2.predict(X_test)"
   ]
  },
  {
   "cell_type": "code",
   "execution_count": 19,
   "id": "1772f896",
   "metadata": {},
   "outputs": [
    {
     "data": {
      "text/plain": [
       "0.6422204120703382"
      ]
     },
     "execution_count": 19,
     "metadata": {},
     "output_type": "execute_result"
    }
   ],
   "source": [
    "model_2.score(X_test,y_test)"
   ]
  },
  {
   "cell_type": "code",
   "execution_count": 20,
   "id": "a78ab36e",
   "metadata": {},
   "outputs": [
    {
     "name": "stdout",
     "output_type": "stream",
     "text": [
      "✅ Created 10864 segments from 1086465 samples.\n",
      "\n",
      "✅ Accuracy: 0.9549\n",
      "\n",
      "📊 Classification Report:\n",
      "               precision    recall  f1-score   support\n",
      "\n",
      "  Downstairs       0.91      0.77      0.84       201\n",
      "     Jogging       0.99      0.99      0.99       674\n",
      "     Sitting       1.00      0.97      0.98       119\n",
      "    Standing       0.99      0.99      0.99        97\n",
      "    Upstairs       0.85      0.85      0.85       245\n",
      "     Walking       0.96      0.99      0.98       837\n",
      "\n",
      "    accuracy                           0.95      2173\n",
      "   macro avg       0.95      0.93      0.94      2173\n",
      "weighted avg       0.95      0.95      0.95      2173\n",
      "\n",
      "\n",
      "🔹 Confusion Matrix:\n",
      " [[155   2   0   0  26  18]\n",
      " [  0 669   0   0   2   3]\n",
      " [  0   0 115   1   3   0]\n",
      " [  0   0   0  96   1   0]\n",
      " [ 14   7   0   0 209  15]\n",
      " [  1   0   0   0   5 831]]\n"
     ]
    }
   ],
   "source": [
    "# ==========================================\n",
    "# HUMAN ACTIVITY RECOGNITION MODEL (WISDM)\n",
    "# ==========================================\n",
    "\n",
    "import pandas as pd\n",
    "import numpy as np\n",
    "from scipy.stats import entropy\n",
    "from sklearn.model_selection import train_test_split\n",
    "from sklearn.ensemble import RandomForestClassifier\n",
    "from sklearn.metrics import classification_report, confusion_matrix, accuracy_score\n",
    "\n",
    "\n",
    "\n",
    "WINDOW_SIZE = 100  # smaller window to ensure enough samples\n",
    "\n",
    "segments = []\n",
    "labels = []\n",
    "\n",
    "for i in range(0, len(df) - WINDOW_SIZE, WINDOW_SIZE):\n",
    "    window = df.iloc[i : i + WINDOW_SIZE]\n",
    "    x = window['x'].values\n",
    "    y = window['y'].values\n",
    "    z = window['z'].values\n",
    "\n",
    "    # Use majority (most frequent) activity label in the window\n",
    "    activity = window['activity'].mode()[0]\n",
    "\n",
    "    # Safe correlation function\n",
    "    def safe_corr(a, b):\n",
    "        if np.std(a) == 0 or np.std(b) == 0:\n",
    "            return 0\n",
    "        return np.corrcoef(a, b)[0, 1]\n",
    "\n",
    "    # Extract time-domain features\n",
    "    features = [\n",
    "        np.mean(x), np.mean(y), np.mean(z),\n",
    "        np.std(x), np.std(y), np.std(z),\n",
    "        np.min(x), np.min(y), np.min(z),\n",
    "        np.max(x), np.max(y), np.max(z),\n",
    "        np.sqrt(np.var(x) + np.var(y) + np.var(z)),        # signal magnitude std\n",
    "        np.mean(np.abs(x) + np.abs(y) + np.abs(z)),        # SMA\n",
    "        entropy(np.abs(x) + 1e-10),                        # avoid log(0)\n",
    "        entropy(np.abs(y) + 1e-10),\n",
    "        entropy(np.abs(z) + 1e-10),\n",
    "        safe_corr(x, y), safe_corr(x, z), safe_corr(y, z)\n",
    "    ]\n",
    "\n",
    "    segments.append(features)\n",
    "    labels.append(activity)\n",
    "\n",
    "print(f\"✅ Created {len(segments)} segments from {len(df)} samples.\")\n",
    "\n",
    "# Convert to DataFrame\n",
    "columns = [\n",
    "    'mean_x', 'mean_y', 'mean_z',\n",
    "    'std_x', 'std_y', 'std_z',\n",
    "    'min_x', 'min_y', 'min_z',\n",
    "    'max_x', 'max_y', 'max_z',\n",
    "    'magnitude_std', 'SMA',\n",
    "    'entropy_x', 'entropy_y', 'entropy_z',\n",
    "    'corr_xy', 'corr_xz', 'corr_yz'\n",
    "]\n",
    "\n",
    "X = pd.DataFrame(segments, columns=columns)\n",
    "y = pd.Series(labels, name='activity')\n",
    "\n",
    "\n",
    "# 3. Split and train the model\n",
    "\n",
    "X_train, X_test, y_train, y_test = train_test_split(\n",
    "    X, y, test_size=0.2, random_state=42, stratify=y\n",
    ")\n",
    "\n",
    "model = RandomForestClassifier(\n",
    "    n_estimators=200,\n",
    "    random_state=42,\n",
    "    n_jobs=-1\n",
    ")\n",
    "\n",
    "model.fit(X_train, y_train)\n",
    "\n",
    "# -----------------------------\n",
    "# 4. Evaluate the model\n",
    "# -----------------------------\n",
    "y_pred = model.predict(X_test)\n",
    "\n",
    "print(\"\\n✅ Accuracy:\", round(accuracy_score(y_test, y_pred), 4))\n",
    "print(\"\\n📊 Classification Report:\\n\", classification_report(y_test, y_pred))\n",
    "print(\"\\n🔹 Confusion Matrix:\\n\", confusion_matrix(y_test, y_pred))\n"
   ]
  },
  {
   "cell_type": "code",
   "execution_count": 23,
   "id": "b6cc530b",
   "metadata": {},
   "outputs": [
    {
     "name": "stdout",
     "output_type": "stream",
     "text": [
      "Model saved using pickle!\n"
     ]
    }
   ],
   "source": [
    "import pickle\n",
    "from sklearn.pipeline import make_pipeline\n",
    "\n",
    "# Create a pipeline with scaler and RandomForestClassifier\n",
    "pipeline = make_pipeline(\n",
    "    StandardScaler(),\n",
    "    RandomForestClassifier(n_estimators=200, random_state=42, n_jobs=-1)\n",
    ")\n",
    "pipeline.fit(X_train, y_train)\n",
    "\n",
    "# Save the pipeline\n",
    "with open('activity_classifier.pkl', 'wb') as file:\n",
    "    pickle.dump(pipeline, file)\n",
    "\n",
    "print(\"Model saved using pickle!\")\n",
    "\n"
   ]
  },
  {
   "cell_type": "code",
   "execution_count": null,
   "id": "c3188ae6",
   "metadata": {},
   "outputs": [],
   "source": []
  },
  {
   "cell_type": "code",
   "execution_count": null,
   "id": "66724971",
   "metadata": {},
   "outputs": [],
   "source": []
  },
  {
   "cell_type": "code",
   "execution_count": null,
   "id": "6d3c0c70",
   "metadata": {},
   "outputs": [],
   "source": []
  }
 ],
 "metadata": {
  "kernelspec": {
   "display_name": "Python 3",
   "language": "python",
   "name": "python3"
  },
  "language_info": {
   "codemirror_mode": {
    "name": "ipython",
    "version": 3
   },
   "file_extension": ".py",
   "mimetype": "text/x-python",
   "name": "python",
   "nbconvert_exporter": "python",
   "pygments_lexer": "ipython3",
   "version": "3.12.3"
  }
 },
 "nbformat": 4,
 "nbformat_minor": 5
}
