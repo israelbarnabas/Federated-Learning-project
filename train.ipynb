{
 "cells": [
  {
   "cell_type": "markdown",
   "id": "6ce27cbf",
   "metadata": {},
   "source": [
    "## This is going to be the start of my privacy preserving federated learning on noisy link project\n",
    "\n",
    "* First I will start by import the data.\n",
    "* Then explore the data and try to clean it\n",
    "* Add the appropriate labels to it.\n",
    "* save the clean data as a csv file.\n"
   ]
  },
  {
   "cell_type": "markdown",
   "id": "2cc80611",
   "metadata": {},
   "source": [
    "## IMPORT THE DATA\n",
    "I need to add my libraries first.\n",
    "Libraries like, Pandas,NumPy and probably matplotlib if i want to visualize the data.\n",
    "\n"
   ]
  },
  {
   "cell_type": "code",
   "execution_count": 2,
   "id": "6dee40a0",
   "metadata": {},
   "outputs": [],
   "source": [
    "import pandas as pd\n",
    "import numpy as np\n",
    "import matplotlib.pyplot as plt"
   ]
  },
  {
   "cell_type": "markdown",
   "id": "566fe04d",
   "metadata": {},
   "source": [
    "## WISDM DATASET\n",
    "The data used here is the **WISDM(Wireless Sensor Data Mining)** dataset which has been released by the Wireless Sensor Data Mining\n",
    "(WISDM) Lab. <http://www.cis.fordham.edu/wisdm/>\n",
    "\n",
    "The data in this file corresponds with the data used in the\n",
    "following paper:\n",
    "\n",
    "Jennifer R. Kwapisz, Gary M. Weiss and Samuel A. Moore (2010). \n",
    "Activity Recognition using Cell Phone Accelerometers, \n",
    "Proceedings of the Fourth International Workshop on Knowledge \n",
    "Discovery from Sensor Data (at KDD-10), Washington DC. \n",
    "<http://www.cis.fordham.edu/wisdm/public_files/sensorKDD-2010.pdf>\n",
    "\n",
    "> Other relevant articles, which can be found here:<http://www.cis.fordham.edu/wisdm/publications.php>\n",
    "\n",
    "- Jeffrey W. Lockhart, Tony Pulickal, and Gary M. Weiss (2012). \n",
    "\t\"Applications of Mobile Activity Recognition,\" \n",
    "\tProceedings of the ACM UbiComp International Workshop \n",
    "\ton Situation, Activity, and Goal Awareness, Pittsburgh, \n",
    "\tPA.\n",
    "\n",
    "- Gary M. Weiss and Jeffrey W. Lockhart (2012). \"The Impact of \n",
    "\tPersonalization on Smartphone-Based Activity Recognition,\" \n",
    "\tProceedings of the AAAI-12 Workshop on Activity Context \n",
    "\tRepresentation: Techniques and Languages, Toronto, CA.\n",
    "\n",
    "- Jennifer R. Kwapisz, Gary M. Weiss and Samuel A. Moore (2010). \n",
    "\t\"Activity Recognition using Cell Phone Accelerometers,\" \n",
    "\tProceedings of the Fourth International Workshop on \n",
    "\tKnowledge Discovery from Sensor Data (at KDD-10), Washington \n",
    "\tDC. \n",
    "\n",
    "**INFO ON DATASET**\n",
    "- Associated tasks - classification\n",
    "- Number of examples: 1,098,207\n",
    "- Number of attributes: 6\n",
    "- Missing attribute values: None\n",
    "- Class distribution: {\n",
    "\t* Walking -> 424,400 -> 38.6%,\n",
    "\t* Jogging -> 342,177 -> 31.2%,\n",
    "\t* Upstairs -> 122,869 -> 11.2%,\n",
    "\t* Downstairs -> 100,427 -> 9.1%,\n",
    "\t* Sitting -> 59,939 -> 5.5%,\n",
    "\t* Standing -> 48,395 -> 4.4% }\n",
    "\n",
    "> raw.txt follows this format:<br>\n",
    "> [user],[activity],[timestamp],[x-acceleration],[y-accel],[z-accel];\n",
    "\n",
    "This line is a representative example:\n",
    ">33,Jogging,49105962326000,-0.6946377,12.680544,0.50395286;\n",
    "\n",
    "- Sampling rate: \n",
    "20Hz (1 sample every 50ms)\n",
    "\n",
    "Fields:\n",
    "* user\n",
    "\tnominal, 1..36\n",
    "\n",
    "* activity\n",
    "\tnominal, {<br>\n",
    "\t\tWalking<br>\n",
    "\t\tJogging<br>\n",
    "\t\tSitting<br>\n",
    "\t\tStanding<br>\n",
    "\t\tUpstairs<br>\n",
    "\t\tDownstairs<br> }\n",
    "\n",
    "* timestamp\n",
    "\tnumeric, generally the phone's uptime in nanoseconds\n",
    "\t\t(In future datasets this will be miliseconds\n",
    "\t\tsince unix epoch.)\n",
    "\n",
    "* x-acceleration\n",
    "\tnumeric, floating-point values between -20 .. 20\n",
    "\t\tThe acceleration in the x direction as measured\n",
    "\t\tby the android phone's accelerometer. \n",
    "\t\tA value of 10 = 1g = 9.81 m/s^2, and\n",
    "\t\t0 = no acceleration.\n",
    "\t\tThe acceleration recorded includes gravitational\n",
    "\t\tacceleration toward the center of the Earth, so\n",
    "\t\tthat when the phone is at rest on a flat surface\n",
    "\t\tthe vertical axis will register +-10. \n",
    "\n",
    "* y-accel\n",
    "\tnumeric, see x-acceleration\n",
    "\n",
    "* z-accel\n",
    "        numeric, see x-acceleration\n",
    "\n",
    "\n",
    "> NB: The information on the data can be found in the readme.txt in the WISDM file.\n"
   ]
  },
  {
   "cell_type": "code",
   "execution_count": 6,
   "id": "84e498ef",
   "metadata": {},
   "outputs": [
    {
     "ename": "ParserError",
     "evalue": "Expected 6 fields in line 134640, saw 11",
     "output_type": "error",
     "traceback": [
      "\u001b[1;31m---------------------------------------------------------------------------\u001b[0m",
      "\u001b[1;31mParserError\u001b[0m                               Traceback (most recent call last)",
      "Cell \u001b[1;32mIn[6], line 1\u001b[0m\n\u001b[1;32m----> 1\u001b[0m df \u001b[38;5;241m=\u001b[39m \u001b[43mpd\u001b[49m\u001b[38;5;241;43m.\u001b[39;49m\u001b[43mread_csv\u001b[49m\u001b[43m(\u001b[49m\n\u001b[0;32m      2\u001b[0m \u001b[43m    \u001b[49m\u001b[38;5;124;43mr\u001b[39;49m\u001b[38;5;124;43m\"\u001b[39;49m\u001b[38;5;124;43mC:\u001b[39;49m\u001b[38;5;124;43m\\\u001b[39;49m\u001b[38;5;124;43mUsers\u001b[39;49m\u001b[38;5;124;43m\\\u001b[39;49m\u001b[38;5;124;43mTHIS PC\u001b[39;49m\u001b[38;5;124;43m\\\u001b[39;49m\u001b[38;5;124;43mflwr_wisdm\u001b[39;49m\u001b[38;5;124;43m\\\u001b[39;49m\u001b[38;5;124;43mWISDM_ar_v1.1_raw.txt\u001b[39;49m\u001b[38;5;124;43m\"\u001b[39;49m\u001b[43m,\u001b[49m\n\u001b[0;32m      3\u001b[0m \u001b[43m    \u001b[49m\u001b[43mdelimiter\u001b[49m\u001b[38;5;241;43m=\u001b[39;49m\u001b[38;5;124;43m\"\u001b[39;49m\u001b[38;5;124;43m,\u001b[39;49m\u001b[38;5;124;43m\"\u001b[39;49m\u001b[43m,\u001b[49m\n\u001b[0;32m      4\u001b[0m \u001b[43m    \u001b[49m\u001b[43mheader\u001b[49m\u001b[38;5;241;43m=\u001b[39;49m\u001b[38;5;28;43;01mNone\u001b[39;49;00m\u001b[43m,\u001b[49m\n\u001b[0;32m      5\u001b[0m \u001b[43m    \u001b[49m\u001b[43mnames\u001b[49m\u001b[38;5;241;43m=\u001b[39;49m\u001b[43m[\u001b[49m\u001b[38;5;124;43m\"\u001b[39;49m\u001b[38;5;124;43muser\u001b[39;49m\u001b[38;5;124;43m\"\u001b[39;49m\u001b[43m,\u001b[49m\u001b[43m \u001b[49m\u001b[38;5;124;43m\"\u001b[39;49m\u001b[38;5;124;43mactivity\u001b[39;49m\u001b[38;5;124;43m\"\u001b[39;49m\u001b[43m,\u001b[49m\u001b[43m \u001b[49m\u001b[38;5;124;43m\"\u001b[39;49m\u001b[38;5;124;43mtimestamp\u001b[39;49m\u001b[38;5;124;43m\"\u001b[39;49m\u001b[43m,\u001b[49m\u001b[43m \u001b[49m\u001b[38;5;124;43m\"\u001b[39;49m\u001b[38;5;124;43mx\u001b[39;49m\u001b[38;5;124;43m\"\u001b[39;49m\u001b[43m,\u001b[49m\u001b[43m \u001b[49m\u001b[38;5;124;43m\"\u001b[39;49m\u001b[38;5;124;43my\u001b[39;49m\u001b[38;5;124;43m\"\u001b[39;49m\u001b[43m,\u001b[49m\u001b[43m \u001b[49m\u001b[38;5;124;43m\"\u001b[39;49m\u001b[38;5;124;43mz\u001b[39;49m\u001b[38;5;124;43m\"\u001b[39;49m\u001b[43m]\u001b[49m\u001b[43m,\u001b[49m\u001b[38;5;66;43;03m# added the appropriate labels\u001b[39;49;00m\n\u001b[0;32m      6\u001b[0m \u001b[43m    \u001b[49m\u001b[43mengine\u001b[49m\u001b[38;5;241;43m=\u001b[39;49m\u001b[38;5;124;43m\"\u001b[39;49m\u001b[38;5;124;43mpython\u001b[39;49m\u001b[38;5;124;43m\"\u001b[39;49m\u001b[43m,\u001b[49m\n\u001b[0;32m      7\u001b[0m \n\u001b[0;32m      8\u001b[0m \u001b[43m)\u001b[49m\n",
      "File \u001b[1;32mc:\\Users\\THIS PC\\AppData\\Local\\Programs\\Python\\Python312\\Lib\\site-packages\\pandas\\io\\parsers\\readers.py:948\u001b[0m, in \u001b[0;36mread_csv\u001b[1;34m(filepath_or_buffer, sep, delimiter, header, names, index_col, usecols, dtype, engine, converters, true_values, false_values, skipinitialspace, skiprows, skipfooter, nrows, na_values, keep_default_na, na_filter, verbose, skip_blank_lines, parse_dates, infer_datetime_format, keep_date_col, date_parser, date_format, dayfirst, cache_dates, iterator, chunksize, compression, thousands, decimal, lineterminator, quotechar, quoting, doublequote, escapechar, comment, encoding, encoding_errors, dialect, on_bad_lines, delim_whitespace, low_memory, memory_map, float_precision, storage_options, dtype_backend)\u001b[0m\n\u001b[0;32m    935\u001b[0m kwds_defaults \u001b[38;5;241m=\u001b[39m _refine_defaults_read(\n\u001b[0;32m    936\u001b[0m     dialect,\n\u001b[0;32m    937\u001b[0m     delimiter,\n\u001b[1;32m   (...)\u001b[0m\n\u001b[0;32m    944\u001b[0m     dtype_backend\u001b[38;5;241m=\u001b[39mdtype_backend,\n\u001b[0;32m    945\u001b[0m )\n\u001b[0;32m    946\u001b[0m kwds\u001b[38;5;241m.\u001b[39mupdate(kwds_defaults)\n\u001b[1;32m--> 948\u001b[0m \u001b[38;5;28;01mreturn\u001b[39;00m \u001b[43m_read\u001b[49m\u001b[43m(\u001b[49m\u001b[43mfilepath_or_buffer\u001b[49m\u001b[43m,\u001b[49m\u001b[43m \u001b[49m\u001b[43mkwds\u001b[49m\u001b[43m)\u001b[49m\n",
      "File \u001b[1;32mc:\\Users\\THIS PC\\AppData\\Local\\Programs\\Python\\Python312\\Lib\\site-packages\\pandas\\io\\parsers\\readers.py:617\u001b[0m, in \u001b[0;36m_read\u001b[1;34m(filepath_or_buffer, kwds)\u001b[0m\n\u001b[0;32m    614\u001b[0m     \u001b[38;5;28;01mreturn\u001b[39;00m parser\n\u001b[0;32m    616\u001b[0m \u001b[38;5;28;01mwith\u001b[39;00m parser:\n\u001b[1;32m--> 617\u001b[0m     \u001b[38;5;28;01mreturn\u001b[39;00m \u001b[43mparser\u001b[49m\u001b[38;5;241;43m.\u001b[39;49m\u001b[43mread\u001b[49m\u001b[43m(\u001b[49m\u001b[43mnrows\u001b[49m\u001b[43m)\u001b[49m\n",
      "File \u001b[1;32mc:\\Users\\THIS PC\\AppData\\Local\\Programs\\Python\\Python312\\Lib\\site-packages\\pandas\\io\\parsers\\readers.py:1748\u001b[0m, in \u001b[0;36mTextFileReader.read\u001b[1;34m(self, nrows)\u001b[0m\n\u001b[0;32m   1741\u001b[0m nrows \u001b[38;5;241m=\u001b[39m validate_integer(\u001b[38;5;124m\"\u001b[39m\u001b[38;5;124mnrows\u001b[39m\u001b[38;5;124m\"\u001b[39m, nrows)\n\u001b[0;32m   1742\u001b[0m \u001b[38;5;28;01mtry\u001b[39;00m:\n\u001b[0;32m   1743\u001b[0m     \u001b[38;5;66;03m# error: \"ParserBase\" has no attribute \"read\"\u001b[39;00m\n\u001b[0;32m   1744\u001b[0m     (\n\u001b[0;32m   1745\u001b[0m         index,\n\u001b[0;32m   1746\u001b[0m         columns,\n\u001b[0;32m   1747\u001b[0m         col_dict,\n\u001b[1;32m-> 1748\u001b[0m     ) \u001b[38;5;241m=\u001b[39m \u001b[38;5;28;43mself\u001b[39;49m\u001b[38;5;241;43m.\u001b[39;49m\u001b[43m_engine\u001b[49m\u001b[38;5;241;43m.\u001b[39;49m\u001b[43mread\u001b[49m\u001b[43m(\u001b[49m\u001b[43m  \u001b[49m\u001b[38;5;66;43;03m# type: ignore[attr-defined]\u001b[39;49;00m\n\u001b[0;32m   1749\u001b[0m \u001b[43m        \u001b[49m\u001b[43mnrows\u001b[49m\n\u001b[0;32m   1750\u001b[0m \u001b[43m    \u001b[49m\u001b[43m)\u001b[49m\n\u001b[0;32m   1751\u001b[0m \u001b[38;5;28;01mexcept\u001b[39;00m \u001b[38;5;167;01mException\u001b[39;00m:\n\u001b[0;32m   1752\u001b[0m     \u001b[38;5;28mself\u001b[39m\u001b[38;5;241m.\u001b[39mclose()\n",
      "File \u001b[1;32mc:\\Users\\THIS PC\\AppData\\Local\\Programs\\Python\\Python312\\Lib\\site-packages\\pandas\\io\\parsers\\python_parser.py:286\u001b[0m, in \u001b[0;36mPythonParser.read\u001b[1;34m(self, rows)\u001b[0m\n\u001b[0;32m    283\u001b[0m     indexnamerow \u001b[38;5;241m=\u001b[39m content[\u001b[38;5;241m0\u001b[39m]\n\u001b[0;32m    284\u001b[0m     content \u001b[38;5;241m=\u001b[39m content[\u001b[38;5;241m1\u001b[39m:]\n\u001b[1;32m--> 286\u001b[0m alldata \u001b[38;5;241m=\u001b[39m \u001b[38;5;28;43mself\u001b[39;49m\u001b[38;5;241;43m.\u001b[39;49m\u001b[43m_rows_to_cols\u001b[49m\u001b[43m(\u001b[49m\u001b[43mcontent\u001b[49m\u001b[43m)\u001b[49m\n\u001b[0;32m    287\u001b[0m data, columns \u001b[38;5;241m=\u001b[39m \u001b[38;5;28mself\u001b[39m\u001b[38;5;241m.\u001b[39m_exclude_implicit_index(alldata)\n\u001b[0;32m    289\u001b[0m conv_data \u001b[38;5;241m=\u001b[39m \u001b[38;5;28mself\u001b[39m\u001b[38;5;241m.\u001b[39m_convert_data(data)\n",
      "File \u001b[1;32mc:\\Users\\THIS PC\\AppData\\Local\\Programs\\Python\\Python312\\Lib\\site-packages\\pandas\\io\\parsers\\python_parser.py:1058\u001b[0m, in \u001b[0;36mPythonParser._rows_to_cols\u001b[1;34m(self, content)\u001b[0m\n\u001b[0;32m   1052\u001b[0m             reason \u001b[38;5;241m=\u001b[39m (\n\u001b[0;32m   1053\u001b[0m                 \u001b[38;5;124m\"\u001b[39m\u001b[38;5;124mError could possibly be due to quotes being \u001b[39m\u001b[38;5;124m\"\u001b[39m\n\u001b[0;32m   1054\u001b[0m                 \u001b[38;5;124m\"\u001b[39m\u001b[38;5;124mignored when a multi-char delimiter is used.\u001b[39m\u001b[38;5;124m\"\u001b[39m\n\u001b[0;32m   1055\u001b[0m             )\n\u001b[0;32m   1056\u001b[0m             msg \u001b[38;5;241m+\u001b[39m\u001b[38;5;241m=\u001b[39m \u001b[38;5;124m\"\u001b[39m\u001b[38;5;124m. \u001b[39m\u001b[38;5;124m\"\u001b[39m \u001b[38;5;241m+\u001b[39m reason\n\u001b[1;32m-> 1058\u001b[0m         \u001b[38;5;28;43mself\u001b[39;49m\u001b[38;5;241;43m.\u001b[39;49m\u001b[43m_alert_malformed\u001b[49m\u001b[43m(\u001b[49m\u001b[43mmsg\u001b[49m\u001b[43m,\u001b[49m\u001b[43m \u001b[49m\u001b[43mrow_num\u001b[49m\u001b[43m \u001b[49m\u001b[38;5;241;43m+\u001b[39;49m\u001b[43m \u001b[49m\u001b[38;5;241;43m1\u001b[39;49m\u001b[43m)\u001b[49m\n\u001b[0;32m   1060\u001b[0m \u001b[38;5;66;03m# see gh-13320\u001b[39;00m\n\u001b[0;32m   1061\u001b[0m zipped_content \u001b[38;5;241m=\u001b[39m \u001b[38;5;28mlist\u001b[39m(lib\u001b[38;5;241m.\u001b[39mto_object_array(content, min_width\u001b[38;5;241m=\u001b[39mcol_len)\u001b[38;5;241m.\u001b[39mT)\n",
      "File \u001b[1;32mc:\\Users\\THIS PC\\AppData\\Local\\Programs\\Python\\Python312\\Lib\\site-packages\\pandas\\io\\parsers\\python_parser.py:779\u001b[0m, in \u001b[0;36mPythonParser._alert_malformed\u001b[1;34m(self, msg, row_num)\u001b[0m\n\u001b[0;32m    762\u001b[0m \u001b[38;5;250m\u001b[39m\u001b[38;5;124;03m\"\"\"\u001b[39;00m\n\u001b[0;32m    763\u001b[0m \u001b[38;5;124;03mAlert a user about a malformed row, depending on value of\u001b[39;00m\n\u001b[0;32m    764\u001b[0m \u001b[38;5;124;03m`self.on_bad_lines` enum.\u001b[39;00m\n\u001b[1;32m   (...)\u001b[0m\n\u001b[0;32m    776\u001b[0m \u001b[38;5;124;03m    even though we 0-index internally.\u001b[39;00m\n\u001b[0;32m    777\u001b[0m \u001b[38;5;124;03m\"\"\"\u001b[39;00m\n\u001b[0;32m    778\u001b[0m \u001b[38;5;28;01mif\u001b[39;00m \u001b[38;5;28mself\u001b[39m\u001b[38;5;241m.\u001b[39mon_bad_lines \u001b[38;5;241m==\u001b[39m \u001b[38;5;28mself\u001b[39m\u001b[38;5;241m.\u001b[39mBadLineHandleMethod\u001b[38;5;241m.\u001b[39mERROR:\n\u001b[1;32m--> 779\u001b[0m     \u001b[38;5;28;01mraise\u001b[39;00m ParserError(msg)\n\u001b[0;32m    780\u001b[0m \u001b[38;5;28;01mif\u001b[39;00m \u001b[38;5;28mself\u001b[39m\u001b[38;5;241m.\u001b[39mon_bad_lines \u001b[38;5;241m==\u001b[39m \u001b[38;5;28mself\u001b[39m\u001b[38;5;241m.\u001b[39mBadLineHandleMethod\u001b[38;5;241m.\u001b[39mWARN:\n\u001b[0;32m    781\u001b[0m     base \u001b[38;5;241m=\u001b[39m \u001b[38;5;124mf\u001b[39m\u001b[38;5;124m\"\u001b[39m\u001b[38;5;124mSkipping line \u001b[39m\u001b[38;5;132;01m{\u001b[39;00mrow_num\u001b[38;5;132;01m}\u001b[39;00m\u001b[38;5;124m: \u001b[39m\u001b[38;5;124m\"\u001b[39m\n",
      "\u001b[1;31mParserError\u001b[0m: Expected 6 fields in line 134640, saw 11"
     ]
    }
   ],
   "source": [
    "df = pd.read_csv(\n",
    "    r\"C:\\Users\\THIS PC\\flwr_wisdm\\WISDM_ar_v1.1_raw.txt\",\n",
    "    delimiter=\",\",\n",
    "    header=None,\n",
    "    names=[\"user\", \"activity\", \"timestamp\", \"x\", \"y\", \"z\"],# added the appropriate labels\n",
    "    engine=\"python\",\n",
    "\n",
    ")"
   ]
  },
  {
   "cell_type": "markdown",
   "id": "140ddbd5",
   "metadata": {},
   "source": [
    "> the error message shown here tells us that there are some row that pandas cannot really import.<br> In that case we'll need to skip some rows."
   ]
  },
  {
   "cell_type": "code",
   "execution_count": 3,
   "id": "a8167b52",
   "metadata": {},
   "outputs": [
    {
     "data": {
      "text/html": [
       "<div>\n",
       "<style scoped>\n",
       "    .dataframe tbody tr th:only-of-type {\n",
       "        vertical-align: middle;\n",
       "    }\n",
       "\n",
       "    .dataframe tbody tr th {\n",
       "        vertical-align: top;\n",
       "    }\n",
       "\n",
       "    .dataframe thead th {\n",
       "        text-align: right;\n",
       "    }\n",
       "</style>\n",
       "<table border=\"1\" class=\"dataframe\">\n",
       "  <thead>\n",
       "    <tr style=\"text-align: right;\">\n",
       "      <th></th>\n",
       "      <th>user</th>\n",
       "      <th>activity</th>\n",
       "      <th>timestamp</th>\n",
       "      <th>x</th>\n",
       "      <th>y</th>\n",
       "      <th>z</th>\n",
       "    </tr>\n",
       "  </thead>\n",
       "  <tbody>\n",
       "    <tr>\n",
       "      <th>0</th>\n",
       "      <td>33</td>\n",
       "      <td>Jogging</td>\n",
       "      <td>49105962326000</td>\n",
       "      <td>-0.694638</td>\n",
       "      <td>12.680544</td>\n",
       "      <td>0.50395286;</td>\n",
       "    </tr>\n",
       "    <tr>\n",
       "      <th>1</th>\n",
       "      <td>33</td>\n",
       "      <td>Jogging</td>\n",
       "      <td>49106062271000</td>\n",
       "      <td>5.012288</td>\n",
       "      <td>11.264028</td>\n",
       "      <td>0.95342433;</td>\n",
       "    </tr>\n",
       "    <tr>\n",
       "      <th>2</th>\n",
       "      <td>33</td>\n",
       "      <td>Jogging</td>\n",
       "      <td>49106112167000</td>\n",
       "      <td>4.903325</td>\n",
       "      <td>10.882658</td>\n",
       "      <td>-0.08172209;</td>\n",
       "    </tr>\n",
       "    <tr>\n",
       "      <th>3</th>\n",
       "      <td>33</td>\n",
       "      <td>Jogging</td>\n",
       "      <td>49106222305000</td>\n",
       "      <td>-0.612916</td>\n",
       "      <td>18.496431</td>\n",
       "      <td>3.0237172;</td>\n",
       "    </tr>\n",
       "    <tr>\n",
       "      <th>4</th>\n",
       "      <td>33</td>\n",
       "      <td>Jogging</td>\n",
       "      <td>49106332290000</td>\n",
       "      <td>-1.184970</td>\n",
       "      <td>12.108489</td>\n",
       "      <td>7.205164;</td>\n",
       "    </tr>\n",
       "    <tr>\n",
       "      <th>5</th>\n",
       "      <td>33</td>\n",
       "      <td>Jogging</td>\n",
       "      <td>49106442306000</td>\n",
       "      <td>1.375655</td>\n",
       "      <td>-2.492524</td>\n",
       "      <td>-6.510526;</td>\n",
       "    </tr>\n",
       "    <tr>\n",
       "      <th>6</th>\n",
       "      <td>33</td>\n",
       "      <td>Jogging</td>\n",
       "      <td>49106542312000</td>\n",
       "      <td>-0.612916</td>\n",
       "      <td>10.569390</td>\n",
       "      <td>5.706926;</td>\n",
       "    </tr>\n",
       "    <tr>\n",
       "      <th>7</th>\n",
       "      <td>33</td>\n",
       "      <td>Jogging</td>\n",
       "      <td>49106652389000</td>\n",
       "      <td>-0.503953</td>\n",
       "      <td>13.947236</td>\n",
       "      <td>7.0553403;</td>\n",
       "    </tr>\n",
       "    <tr>\n",
       "      <th>8</th>\n",
       "      <td>33</td>\n",
       "      <td>Jogging</td>\n",
       "      <td>49106762313000</td>\n",
       "      <td>-8.430995</td>\n",
       "      <td>11.413852</td>\n",
       "      <td>5.134871;</td>\n",
       "    </tr>\n",
       "    <tr>\n",
       "      <th>9</th>\n",
       "      <td>33</td>\n",
       "      <td>Jogging</td>\n",
       "      <td>49106872299000</td>\n",
       "      <td>0.953424</td>\n",
       "      <td>1.375655</td>\n",
       "      <td>1.6480621;</td>\n",
       "    </tr>\n",
       "  </tbody>\n",
       "</table>\n",
       "</div>"
      ],
      "text/plain": [
       "   user activity       timestamp         x          y             z\n",
       "0    33  Jogging  49105962326000 -0.694638  12.680544   0.50395286;\n",
       "1    33  Jogging  49106062271000  5.012288  11.264028   0.95342433;\n",
       "2    33  Jogging  49106112167000  4.903325  10.882658  -0.08172209;\n",
       "3    33  Jogging  49106222305000 -0.612916  18.496431    3.0237172;\n",
       "4    33  Jogging  49106332290000 -1.184970  12.108489     7.205164;\n",
       "5    33  Jogging  49106442306000  1.375655  -2.492524    -6.510526;\n",
       "6    33  Jogging  49106542312000 -0.612916  10.569390     5.706926;\n",
       "7    33  Jogging  49106652389000 -0.503953  13.947236    7.0553403;\n",
       "8    33  Jogging  49106762313000 -8.430995  11.413852     5.134871;\n",
       "9    33  Jogging  49106872299000  0.953424   1.375655    1.6480621;"
      ]
     },
     "execution_count": 3,
     "metadata": {},
     "output_type": "execute_result"
    }
   ],
   "source": [
    "df = pd.read_csv(\n",
    "    r\"C:\\Users\\THIS PC\\flwr_wisdm\\WISDM_ar_v1.1_raw.txt\",\n",
    "    delimiter=\",\",\n",
    "    header=None,\n",
    "    names=[\"user\", \"activity\", \"timestamp\", \"x\", \"y\", \"z\"],# added the appropriate labels\n",
    "    engine=\"python\",\n",
    "    on_bad_lines=\"skip\"\n",
    ")\n",
    "\n",
    "df.head(10) # this is to show the first 10 rows of the dataset"
   ]
  },
  {
   "cell_type": "code",
   "execution_count": 4,
   "id": "7ef714b3",
   "metadata": {},
   "outputs": [
    {
     "data": {
      "text/plain": [
       "(1086466, 6)"
      ]
     },
     "execution_count": 4,
     "metadata": {},
     "output_type": "execute_result"
    }
   ],
   "source": [
    "df.shape"
   ]
  },
  {
   "cell_type": "code",
   "execution_count": 29,
   "id": "bac0a321",
   "metadata": {},
   "outputs": [
    {
     "name": "stdout",
     "output_type": "stream",
     "text": [
      "<class 'pandas.core.frame.DataFrame'>\n",
      "RangeIndex: 1086466 entries, 0 to 1086465\n",
      "Data columns (total 6 columns):\n",
      " #   Column     Non-Null Count    Dtype  \n",
      "---  ------     --------------    -----  \n",
      " 0   user       1086466 non-null  int64  \n",
      " 1   activity   1086466 non-null  object \n",
      " 2   timestamp  1086466 non-null  int64  \n",
      " 3   x          1086466 non-null  float64\n",
      " 4   y          1086466 non-null  float64\n",
      " 5   z          1086465 non-null  object \n",
      "dtypes: float64(2), int64(2), object(2)\n",
      "memory usage: 49.7+ MB\n"
     ]
    }
   ],
   "source": [
    "df.info() # this is to show the information about the dataset"
   ]
  },
  {
   "cell_type": "markdown",
   "id": "b9f8b937",
   "metadata": {},
   "source": [
    "> The dataset has now been imported and these are the analysis.<br>\n",
    "So the original dataset had **1,098,207** but now with the skipped rows, the dataset reduces to **1086466**<br> Another thing observed is that the Z columns' datatype is an **object** instead of **float** like X and Y"
   ]
  },
  {
   "cell_type": "code",
   "execution_count": 5,
   "id": "f4d7e368",
   "metadata": {},
   "outputs": [
    {
     "data": {
      "text/plain": [
       "activity\n",
       "Walking       418394\n",
       "Jogging       336445\n",
       "Upstairs      122869\n",
       "Downstairs    100425\n",
       "Sitting        59939\n",
       "Standing       48394\n",
       "Name: count, dtype: int64"
      ]
     },
     "execution_count": 5,
     "metadata": {},
     "output_type": "execute_result"
    }
   ],
   "source": [
    "df[\"activity\"].value_counts()"
   ]
  },
  {
   "cell_type": "markdown",
   "id": "18e8523c",
   "metadata": {},
   "source": [
    "Comparing the original and the imported data\n",
    "- Activity:\n",
    "\t* Walking -> 424,400\n",
    "\t* Jogging -> 342,177\n",
    "\t* Upstairs -> 122,869\n",
    "\t* Downstairs -> 100,427\n",
    "\t* Sitting -> 59,939\n",
    "\t* Standing -> 48,395\n",
    "\n",
    "It clearly shows a reduction in the number of rows"
   ]
  },
  {
   "cell_type": "code",
   "execution_count": 6,
   "id": "f604f32f",
   "metadata": {},
   "outputs": [
    {
     "data": {
      "text/plain": [
       "<Axes: xlabel='activity'>"
      ]
     },
     "execution_count": 6,
     "metadata": {},
     "output_type": "execute_result"
    },
    {
     "data": {
      "image/png": "[encoded data removed]",
      "text/plain": [
       "<Figure size 640x480 with 1 Axes>"
      ]
     },
     "metadata": {},
     "output_type": "display_data"
    }
   ],
   "source": [
    "df[\"activity\"].value_counts().plot(kind=\"bar\")\n"
   ]
  },
  {
   "cell_type": "code",
   "execution_count": 7,
   "id": "154d7738",
   "metadata": {},
   "outputs": [
    {
     "data": {
      "text/plain": [
       "user         0\n",
       "activity     0\n",
       "timestamp    0\n",
       "x            0\n",
       "y            0\n",
       "z            1\n",
       "dtype: int64"
      ]
     },
     "execution_count": 7,
     "metadata": {},
     "output_type": "execute_result"
    }
   ],
   "source": [
    "df.isna().sum()"
   ]
  },
  {
   "cell_type": "markdown",
   "id": "1391a8c6",
   "metadata": {},
   "source": [
    "> Z has one missing value"
   ]
  },
  {
   "cell_type": "code",
   "execution_count": 8,
   "id": "e0da3078",
   "metadata": {},
   "outputs": [
    {
     "data": {
      "text/plain": [
       "user         0\n",
       "activity     0\n",
       "timestamp    0\n",
       "x            0\n",
       "y            0\n",
       "z            0\n",
       "dtype: int64"
      ]
     },
     "execution_count": 8,
     "metadata": {},
     "output_type": "execute_result"
    }
   ],
   "source": [
    "df = df.dropna() # dropping the missing values\n",
    "df.isna().sum()"
   ]
  },
  {
   "cell_type": "code",
   "execution_count": 9,
   "id": "7a31de4b",
   "metadata": {},
   "outputs": [
    {
     "data": {
      "text/plain": [
       "(1086465, 6)"
      ]
     },
     "execution_count": 9,
     "metadata": {},
     "output_type": "execute_result"
    }
   ],
   "source": [
    "df.shape\n"
   ]
  },
  {
   "cell_type": "code",
   "execution_count": 10,
   "id": "59e77295",
   "metadata": {},
   "outputs": [
    {
     "data": {
      "text/html": [
       "<div>\n",
       "<style scoped>\n",
       "    .dataframe tbody tr th:only-of-type {\n",
       "        vertical-align: middle;\n",
       "    }\n",
       "\n",
       "    .dataframe tbody tr th {\n",
       "        vertical-align: top;\n",
       "    }\n",
       "\n",
       "    .dataframe thead th {\n",
       "        text-align: right;\n",
       "    }\n",
       "</style>\n",
       "<table border=\"1\" class=\"dataframe\">\n",
       "  <thead>\n",
       "    <tr style=\"text-align: right;\">\n",
       "      <th></th>\n",
       "      <th>user</th>\n",
       "      <th>activity</th>\n",
       "      <th>timestamp</th>\n",
       "      <th>x</th>\n",
       "      <th>y</th>\n",
       "      <th>z</th>\n",
       "    </tr>\n",
       "  </thead>\n",
       "  <tbody>\n",
       "    <tr>\n",
       "      <th>0</th>\n",
       "      <td>33</td>\n",
       "      <td>Jogging</td>\n",
       "      <td>49105962326000</td>\n",
       "      <td>-0.694638</td>\n",
       "      <td>12.680544</td>\n",
       "      <td>0.50395286;</td>\n",
       "    </tr>\n",
       "    <tr>\n",
       "      <th>1</th>\n",
       "      <td>33</td>\n",
       "      <td>Jogging</td>\n",
       "      <td>49106062271000</td>\n",
       "      <td>5.012288</td>\n",
       "      <td>11.264028</td>\n",
       "      <td>0.95342433;</td>\n",
       "    </tr>\n",
       "    <tr>\n",
       "      <th>2</th>\n",
       "      <td>33</td>\n",
       "      <td>Jogging</td>\n",
       "      <td>49106112167000</td>\n",
       "      <td>4.903325</td>\n",
       "      <td>10.882658</td>\n",
       "      <td>-0.08172209;</td>\n",
       "    </tr>\n",
       "    <tr>\n",
       "      <th>3</th>\n",
       "      <td>33</td>\n",
       "      <td>Jogging</td>\n",
       "      <td>49106222305000</td>\n",
       "      <td>-0.612916</td>\n",
       "      <td>18.496431</td>\n",
       "      <td>3.0237172;</td>\n",
       "    </tr>\n",
       "    <tr>\n",
       "      <th>4</th>\n",
       "      <td>33</td>\n",
       "      <td>Jogging</td>\n",
       "      <td>49106332290000</td>\n",
       "      <td>-1.184970</td>\n",
       "      <td>12.108489</td>\n",
       "      <td>7.205164;</td>\n",
       "    </tr>\n",
       "  </tbody>\n",
       "</table>\n",
       "</div>"
      ],
      "text/plain": [
       "   user activity       timestamp         x          y             z\n",
       "0    33  Jogging  49105962326000 -0.694638  12.680544   0.50395286;\n",
       "1    33  Jogging  49106062271000  5.012288  11.264028   0.95342433;\n",
       "2    33  Jogging  49106112167000  4.903325  10.882658  -0.08172209;\n",
       "3    33  Jogging  49106222305000 -0.612916  18.496431    3.0237172;\n",
       "4    33  Jogging  49106332290000 -1.184970  12.108489     7.205164;"
      ]
     },
     "execution_count": 10,
     "metadata": {},
     "output_type": "execute_result"
    }
   ],
   "source": [
    "df.head()"
   ]
  },
  {
   "cell_type": "code",
   "execution_count": null,
   "id": "fb0e4629",
   "metadata": {},
   "outputs": [],
   "source": []
  },
  {
   "cell_type": "code",
   "execution_count": 11,
   "id": "d727e3f9",
   "metadata": {},
   "outputs": [
    {
     "name": "stdout",
     "output_type": "stream",
     "text": [
      "<class 'pandas.core.frame.DataFrame'>\n",
      "Index: 1086465 entries, 0 to 1086465\n",
      "Data columns (total 6 columns):\n",
      " #   Column     Non-Null Count    Dtype  \n",
      "---  ------     --------------    -----  \n",
      " 0   user       1086465 non-null  int64  \n",
      " 1   activity   1086465 non-null  object \n",
      " 2   timestamp  1086465 non-null  int64  \n",
      " 3   x          1086465 non-null  float64\n",
      " 4   y          1086465 non-null  float64\n",
      " 5   z          1086465 non-null  object \n",
      "dtypes: float64(2), int64(2), object(2)\n",
      "memory usage: 58.0+ MB\n"
     ]
    },
    {
     "data": {
      "text/plain": [
       "(None, (1086465, 6))"
      ]
     },
     "execution_count": 11,
     "metadata": {},
     "output_type": "execute_result"
    }
   ],
   "source": [
    "df.info(),df.shape"
   ]
  },
  {
   "cell_type": "code",
   "execution_count": 12,
   "id": "90999d18",
   "metadata": {},
   "outputs": [
    {
     "data": {
      "text/plain": [
       "user         0\n",
       "activity     0\n",
       "timestamp    0\n",
       "x            0\n",
       "y            0\n",
       "z            0\n",
       "dtype: int64"
      ]
     },
     "execution_count": 12,
     "metadata": {},
     "output_type": "execute_result"
    }
   ],
   "source": [
    "df = df.dropna()\n",
    "df.isna().sum()"
   ]
  },
  {
   "cell_type": "code",
   "execution_count": 13,
   "id": "423d7e4c",
   "metadata": {},
   "outputs": [],
   "source": [
    "# Remove semicolons and whitespace\n",
    "df[\"z\"] = df[\"z\"].str.replace(\";\", \"\", regex=False).str.strip()\n",
    "\n",
    "# Now convert to float\n",
    "df[\"z\"] = df[\"z\"].astype(float)\n"
   ]
  },
  {
   "cell_type": "code",
   "execution_count": 14,
   "id": "b996c199",
   "metadata": {},
   "outputs": [
    {
     "data": {
      "text/html": [
       "<div>\n",
       "<style scoped>\n",
       "    .dataframe tbody tr th:only-of-type {\n",
       "        vertical-align: middle;\n",
       "    }\n",
       "\n",
       "    .dataframe tbody tr th {\n",
       "        vertical-align: top;\n",
       "    }\n",
       "\n",
       "    .dataframe thead th {\n",
       "        text-align: right;\n",
       "    }\n",
       "</style>\n",
       "<table border=\"1\" class=\"dataframe\">\n",
       "  <thead>\n",
       "    <tr style=\"text-align: right;\">\n",
       "      <th></th>\n",
       "      <th>user</th>\n",
       "      <th>activity</th>\n",
       "      <th>timestamp</th>\n",
       "      <th>x</th>\n",
       "      <th>y</th>\n",
       "      <th>z</th>\n",
       "    </tr>\n",
       "  </thead>\n",
       "  <tbody>\n",
       "    <tr>\n",
       "      <th>0</th>\n",
       "      <td>33</td>\n",
       "      <td>Jogging</td>\n",
       "      <td>49105962326000</td>\n",
       "      <td>-0.694638</td>\n",
       "      <td>12.680544</td>\n",
       "      <td>0.503953</td>\n",
       "    </tr>\n",
       "    <tr>\n",
       "      <th>1</th>\n",
       "      <td>33</td>\n",
       "      <td>Jogging</td>\n",
       "      <td>49106062271000</td>\n",
       "      <td>5.012288</td>\n",
       "      <td>11.264028</td>\n",
       "      <td>0.953424</td>\n",
       "    </tr>\n",
       "    <tr>\n",
       "      <th>2</th>\n",
       "      <td>33</td>\n",
       "      <td>Jogging</td>\n",
       "      <td>49106112167000</td>\n",
       "      <td>4.903325</td>\n",
       "      <td>10.882658</td>\n",
       "      <td>-0.081722</td>\n",
       "    </tr>\n",
       "    <tr>\n",
       "      <th>3</th>\n",
       "      <td>33</td>\n",
       "      <td>Jogging</td>\n",
       "      <td>49106222305000</td>\n",
       "      <td>-0.612916</td>\n",
       "      <td>18.496431</td>\n",
       "      <td>3.023717</td>\n",
       "    </tr>\n",
       "    <tr>\n",
       "      <th>4</th>\n",
       "      <td>33</td>\n",
       "      <td>Jogging</td>\n",
       "      <td>49106332290000</td>\n",
       "      <td>-1.184970</td>\n",
       "      <td>12.108489</td>\n",
       "      <td>7.205164</td>\n",
       "    </tr>\n",
       "  </tbody>\n",
       "</table>\n",
       "</div>"
      ],
      "text/plain": [
       "   user activity       timestamp         x          y         z\n",
       "0    33  Jogging  49105962326000 -0.694638  12.680544  0.503953\n",
       "1    33  Jogging  49106062271000  5.012288  11.264028  0.953424\n",
       "2    33  Jogging  49106112167000  4.903325  10.882658 -0.081722\n",
       "3    33  Jogging  49106222305000 -0.612916  18.496431  3.023717\n",
       "4    33  Jogging  49106332290000 -1.184970  12.108489  7.205164"
      ]
     },
     "execution_count": 14,
     "metadata": {},
     "output_type": "execute_result"
    }
   ],
   "source": [
    "df.head()"
   ]
  },
  {
   "cell_type": "markdown",
   "id": "f6afae79",
   "metadata": {},
   "source": [
    "> Data clean in is all done ✅"
   ]
  },
  {
   "cell_type": "markdown",
   "id": "33b141de",
   "metadata": {},
   "source": [
    "## SAVE DATA"
   ]
  },
  {
   "cell_type": "code",
   "execution_count": 15,
   "id": "3fb0c6fc",
   "metadata": {},
   "outputs": [],
   "source": [
    "df.to_csv(\"cleaned_wisdm_data.csv\", index=False)"
   ]
  },
  {
   "cell_type": "code",
   "execution_count": 19,
   "id": "bf355715",
   "metadata": {},
   "outputs": [
    {
     "name": "stdout",
     "output_type": "stream",
     "text": [
      "📊 Dataset loaded with 1086465 samples and 6 activities.\n",
      "✅ Created 10864 segments from 1086465 samples.\n",
      "\n",
      "✅ Accuracy: 0.884\n",
      "\n",
      "📊 Classification Report:\n",
      "               precision    recall  f1-score   support\n",
      "\n",
      "  Downstairs       0.82      0.71      0.76       230\n",
      "     Jogging       0.91      0.94      0.92       636\n",
      "     Sitting       0.94      0.91      0.92        98\n",
      "    Standing       0.98      0.76      0.86        68\n",
      "    Upstairs       0.86      0.69      0.76       243\n",
      "     Walking       0.87      0.95      0.91       898\n",
      "\n",
      "    accuracy                           0.88      2173\n",
      "   macro avg       0.90      0.83      0.86      2173\n",
      "weighted avg       0.88      0.88      0.88      2173\n",
      "\n",
      "\n",
      "🔹 Confusion Matrix:\n",
      " [[164   5   1   0  16  44]\n",
      " [  9 595   0   1   4  27]\n",
      " [  3   4  89   0   1   1]\n",
      " [  5   3   1  52   2   5]\n",
      " [ 13  16   0   0 167  47]\n",
      " [  6  29   4   0   5 854]]\n"
     ]
    }
   ],
   "source": [
    "# ==========================================\n",
    "# HUMAN ACTIVITY RECOGNITION MODEL (WISDM)\n",
    "# ==========================================\n",
    "\n",
    "import pandas as pd\n",
    "import numpy as np\n",
    "from scipy.stats import entropy\n",
    "from sklearn.model_selection import train_test_split\n",
    "from sklearn.ensemble import RandomForestClassifier\n",
    "from sklearn.metrics import classification_report, confusion_matrix, accuracy_score\n",
    "\n",
    "# -----------------------------\n",
    "# 1. Load and clean dataset\n",
    "# -----------------------------\n",
    "df = pd.read_csv(\"cleaned_wisdm_data.csv\")\n",
    "\n",
    "# Clean column names\n",
    "df.columns = df.columns.str.strip().str.replace(';', '', regex=False)\n",
    "\n",
    "# Drop missing values\n",
    "df.dropna(inplace=True)\n",
    "\n",
    "# Keep only necessary columns\n",
    "expected_cols = ['user', 'activity', 'timestamp', 'x', 'y', 'z']\n",
    "df = df[[col for col in expected_cols if col in df.columns]]\n",
    "\n",
    "# Ensure numeric acceleration values\n",
    "for col in ['x', 'y', 'z']:\n",
    "    df[col] = pd.to_numeric(df[col], errors='coerce')\n",
    "df.dropna(subset=['x', 'y', 'z'], inplace=True)\n",
    "\n",
    "# Sort by timestamp (important for sequential data)\n",
    "df.sort_values(by='timestamp', inplace=True, ignore_index=True)\n",
    "\n",
    "print(f\"📊 Dataset loaded with {len(df)} samples and {df['activity'].nunique()} activities.\")\n",
    "\n",
    "# -----------------------------\n",
    "# 2. Segment data into windows\n",
    "# -----------------------------\n",
    "WINDOW_SIZE = 100  # smaller window to ensure enough samples\n",
    "\n",
    "segments = []\n",
    "labels = []\n",
    "\n",
    "for i in range(0, len(df) - WINDOW_SIZE, WINDOW_SIZE):\n",
    "    window = df.iloc[i : i + WINDOW_SIZE]\n",
    "    x = window['x'].values\n",
    "    y = window['y'].values\n",
    "    z = window['z'].values\n",
    "\n",
    "    # Use majority (most frequent) activity label in the window\n",
    "    activity = window['activity'].mode()[0]\n",
    "\n",
    "    # Safe correlation function\n",
    "    def safe_corr(a, b):\n",
    "        if np.std(a) == 0 or np.std(b) == 0:\n",
    "            return 0\n",
    "        return np.corrcoef(a, b)[0, 1]\n",
    "\n",
    "    # Extract time-domain features\n",
    "    features = [\n",
    "        np.mean(x), np.mean(y), np.mean(z),\n",
    "        np.std(x), np.std(y), np.std(z),\n",
    "        np.min(x), np.min(y), np.min(z),\n",
    "        np.max(x), np.max(y), np.max(z),\n",
    "        np.sqrt(np.var(x) + np.var(y) + np.var(z)),        # signal magnitude std\n",
    "        np.mean(np.abs(x) + np.abs(y) + np.abs(z)),        # SMA\n",
    "        entropy(np.abs(x) + 1e-10),                        # avoid log(0)\n",
    "        entropy(np.abs(y) + 1e-10),\n",
    "        entropy(np.abs(z) + 1e-10),\n",
    "        safe_corr(x, y), safe_corr(x, z), safe_corr(y, z)\n",
    "    ]\n",
    "\n",
    "    segments.append(features)\n",
    "    labels.append(activity)\n",
    "\n",
    "print(f\"✅ Created {len(segments)} segments from {len(df)} samples.\")\n",
    "\n",
    "# Convert to DataFrame\n",
    "columns = [\n",
    "    'mean_x', 'mean_y', 'mean_z',\n",
    "    'std_x', 'std_y', 'std_z',\n",
    "    'min_x', 'min_y', 'min_z',\n",
    "    'max_x', 'max_y', 'max_z',\n",
    "    'magnitude_std', 'SMA',\n",
    "    'entropy_x', 'entropy_y', 'entropy_z',\n",
    "    'corr_xy', 'corr_xz', 'corr_yz'\n",
    "]\n",
    "\n",
    "X = pd.DataFrame(segments, columns=columns)\n",
    "y = pd.Series(labels, name='activity')\n",
    "\n",
    "# Check if we have valid data\n",
    "if len(X) == 0:\n",
    "    raise ValueError(\"No segments were created! Try reducing WINDOW_SIZE or check your data.\")\n",
    "\n",
    "# -----------------------------\n",
    "# 3. Split and train the model\n",
    "# -----------------------------\n",
    "X_train, X_test, y_train, y_test = train_test_split(\n",
    "    X, y, test_size=0.2, random_state=42, stratify=y\n",
    ")\n",
    "\n",
    "model = RandomForestClassifier(\n",
    "    n_estimators=200,\n",
    "    random_state=42,\n",
    "    n_jobs=-1\n",
    ")\n",
    "\n",
    "model.fit(X_train, y_train)\n",
    "\n",
    "# -----------------------------\n",
    "# 4. Evaluate the model\n",
    "# -----------------------------\n",
    "y_pred = model.predict(X_test)\n",
    "\n",
    "print(\"\\n✅ Accuracy:\", round(accuracy_score(y_test, y_pred), 4))\n",
    "print(\"\\n📊 Classification Report:\\n\", classification_report(y_test, y_pred))\n",
    "print(\"\\n🔹 Confusion Matrix:\\n\", confusion_matrix(y_test, y_pred))\n"
   ]
  },
  {
   "cell_type": "code",
   "execution_count": null,
   "id": "5bddbcf1",
   "metadata": {},
   "outputs": [],
   "source": []
  },
  {
   "cell_type": "code",
   "execution_count": null,
   "id": "e2e11558",
   "metadata": {},
   "outputs": [],
   "source": []
  },
  {
   "cell_type": "code",
   "execution_count": null,
   "id": "7004d146",
   "metadata": {},
   "outputs": [],
   "source": []
  }
 ],
 "metadata": {
  "kernelspec": {
   "display_name": "Python 3",
   "language": "python",
   "name": "python3"
  },
  "language_info": {
   "codemirror_mode": {
    "name": "ipython",
    "version": 3
   },
   "file_extension": ".py",
   "mimetype": "text/x-python",
   "name": "python",
   "nbconvert_exporter": "python",
   "pygments_lexer": "ipython3",
   "version": "3.12.3"
  }
 },
 "nbformat": 4,
 "nbformat_minor": 5
}
